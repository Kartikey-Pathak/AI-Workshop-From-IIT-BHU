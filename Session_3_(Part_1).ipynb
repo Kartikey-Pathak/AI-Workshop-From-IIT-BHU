{
  "nbformat": 4,
  "nbformat_minor": 0,
  "metadata": {
    "colab": {
      "provenance": [],
      "collapsed_sections": [
        "32S6Lzo4j_fG"
      ],
      "include_colab_link": true
    },
    "kernelspec": {
      "name": "python3",
      "display_name": "Python 3"
    },
    "language_info": {
      "name": "python"
    }
  },
  "cells": [
    {
      "cell_type": "markdown",
      "metadata": {
        "id": "view-in-github",
        "colab_type": "text"
      },
      "source": [
        "<a href=\"https://colab.research.google.com/github/Kartikey-Pathak/AI-Workshop-From-IIT-BHU/blob/main/Session_3_(Part_1).ipynb\" target=\"_parent\"><img src=\"https://colab.research.google.com/assets/colab-badge.svg\" alt=\"Open In Colab\"/></a>"
      ]
    },
    {
      "cell_type": "markdown",
      "source": [
        "# Gemini API: Basic App Implementation\n",
        "\n",
        "This Google Colab notebook will guide you through the basics of setting up, understanding, and using the Gemini API. By the end of this notebook, you will have a deep understanding of its functionality and practical implementation.\n",
        "\n",
        "![Google's Gemini](https://storage.googleapis.com/gweb-uniblog-publish-prod/images/Gemini_SS.width-1300.jpg)"
      ],
      "metadata": {
        "id": "JcM3mdo2jHz1"
      }
    },
    {
      "cell_type": "markdown",
      "source": [
        "## Part 1: Setup"
      ],
      "metadata": {
        "id": "HSpwKQkxke0e"
      }
    },
    {
      "cell_type": "markdown",
      "source": [
        "### Install Required Libraries\n",
        "\n",
        "To get started, we need to install the Gemini API Python client library. This library provides all the tools to interact with the Gemini platform."
      ],
      "metadata": {
        "id": "47ZzvxmMkhwW"
      }
    },
    {
      "cell_type": "code",
      "execution_count": null,
      "metadata": {
        "id": "gg-WTtFqiNed"
      },
      "outputs": [],
      "source": [
        "!pip install google-generativeai"
      ]
    },
    {
      "cell_type": "markdown",
      "source": [
        "### Setting Up Authentication for Gemini API\n",
        "\n",
        "Before you can start using the Gemini API, you'll need to obtain and configure your API key. This key securely identifies your requests to the Gemini platform.\n",
        "\n",
        "#### Obtaining Your API Key\n",
        "1. Navigate to [Google AI Studio](https://aistudio.google.com)\n",
        "2. Sign in with your Google account if you haven't already\n",
        "3. Look for the \"Get API key\" button in the top navigation or dashboard\n",
        "4. Review and accept the terms of service and user agreements\n",
        "5. Select \"Create API key\" to generate your unique key\n",
        "6. Copy your API key immediately and store it securely - you won't be able to see it again\n",
        "7. In the following cell, replace `GOOGLE_API_KEY` with the API key"
      ],
      "metadata": {
        "id": "319iShahjO28"
      }
    },
    {
      "cell_type": "code",
      "source": [
        "# Import necessary libraries\n",
        "import google.generativeai as gemini\n",
        "\n",
        "api_key = \"GOOGLE_API_KEY\"\n",
        "\n",
        "gemini.configure(api_key=api_key)\n",
        "print(\"Authenticated successfully!\")"
      ],
      "metadata": {
        "id": "sdu9d8JTjM_m"
      },
      "execution_count": null,
      "outputs": []
    },
    {
      "cell_type": "markdown",
      "source": [
        "## Part 2: Understanding the Gemini API\n",
        "\n",
        "The Gemini API empowers developers to harness Google's advanced AI models for various applications. Let's dive into its core architecture and capabilities:\n",
        "\n",
        "### Core Components\n",
        "\n",
        "#### Model Family\n",
        "The API provides access to different model variants, each optimized for specific use cases:\n",
        "- Gemini Pro: Balanced model for most applications\n",
        "- Gemini Pro Vision: Specialized for multimodal tasks including image analysis\n",
        "- Gemini Ultra: Enterprise-grade model for complex tasks (limited access)\n",
        "\n",
        "#### Interaction Methods\n",
        "The API supports multiple ways to communicate with the models:\n",
        "\n",
        "- **Text Generation**: Create human-like text responses, summaries, and content\n",
        "- **Code Generation**: Generate, analyze, and explain code across programming languages\n",
        "- **Multimodal Processing**: Analyze images alongside text for comprehensive understanding\n",
        "- **Chat Sessions**: Maintain context through multi-turn conversations\n",
        "- **Function Calling**: Integrate AI capabilities directly into your application's functions\n",
        "\n",
        "#### Configuration Options\n",
        "Fine-tune the model's behavior through various parameters:\n",
        "\n",
        "- Temperature: Control response creativity and randomness\n",
        "- Top-k and Top-p: Adjust sampling strategies for text generation\n",
        "- Safety settings: Manage content filtering and output appropriateness\n",
        "- Response formats: Specify structured output in JSON, markdown, or other formats\n",
        "\n",
        "#### Request Rate Limits\n",
        "- Standard tier: 60 requests per minute\n",
        "- Professional tier: Higher limits based on subscription level\n",
        "- Batch processing available for high-volume needs\n",
        "\n",
        "### Integration Formats\n",
        "The API accepts requests through:\n",
        "- REST API endpoints with JSON payloads\n",
        "- Official client libraries for Python, JavaScript, Java, and other languages (like we are doing)\n",
        "- WebSocket connections for streaming responses"
      ],
      "metadata": {
        "id": "32S6Lzo4j_fG"
      }
    },
    {
      "cell_type": "markdown",
      "source": [
        "### Fetch Available Models"
      ],
      "metadata": {
        "id": "nQm8SZkPkA-d"
      }
    },
    {
      "cell_type": "code",
      "source": [
        "# List available models\n",
        "models = gemini.list_models()\n",
        "print(\"Available Models:\")\n",
        "for model in models:\n",
        "    print(model.name)"
      ],
      "metadata": {
        "id": "wlni1z7xj7NA"
      },
      "execution_count": null,
      "outputs": []
    },
    {
      "cell_type": "markdown",
      "source": [
        "### Explore Model Capabilities"
      ],
      "metadata": {
        "id": "zd0IIfE3kOBu"
      }
    },
    {
      "cell_type": "code",
      "source": [
        "# Select a model (replace 'model_name' with an actual model name from the list above)\n",
        "MODEL_NAME = 'models/gemini-1.5-flash'\n",
        "\n",
        "# Get model details\n",
        "model_details = gemini.get_model(MODEL_NAME)\n",
        "print(\"Model Details:\", model_details)"
      ],
      "metadata": {
        "id": "ijHQ4VDTkLn8"
      },
      "execution_count": null,
      "outputs": []
    },
    {
      "cell_type": "markdown",
      "source": [
        "## Part 3: Building a Basic Application\n",
        "We will build a simple text generation app using one of the Gemini models."
      ],
      "metadata": {
        "id": "AYuXKI_skYk-"
      }
    },
    {
      "cell_type": "markdown",
      "source": [
        "### Send a Prompt to the Model"
      ],
      "metadata": {
        "id": "z6p_luGxkroX"
      }
    },
    {
      "cell_type": "code",
      "source": [
        "# Define a sample prompt\n",
        "prompt = \"Write a poem on artificial intelligence\"\n",
        "\n",
        "# Send the prompt to the model\n",
        "model = gemini.GenerativeModel(model_details.name)\n",
        "chat = model.start_chat(\n",
        "    history=[\n",
        "        {\"role\": \"user\", \"parts\": \"Hello\"},\n",
        "        {\"role\": \"model\", \"parts\": \"Great to meet you. What would you like to know?\"},\n",
        "    ]\n",
        ")\n",
        "\n",
        "response = chat.send_message(prompt)\n",
        "\n",
        "print(\"Generated Response:\")\n",
        "print(response.text)"
      ],
      "metadata": {
        "id": "iEcdWzRokVu0"
      },
      "execution_count": null,
      "outputs": []
    },
    {
      "cell_type": "markdown",
      "source": [
        "## Additional Resources\n",
        "\n",
        "### Official Documentation & Guides\n",
        "- [Google AI Studio Documentation](https://ai.google.dev/gemini-api/docs) - Official documentation and getting started guides\n",
        "- [Gemini API Reference](https://ai.google.dev/api) - Complete API reference and specifications\n",
        "\n",
        "### Code Examples & Sample Projects\n",
        "- [Gemini API Samples Repository](https://github.com/google/generative-ai-docs) - Official code samples and example projects\n",
        "- [Gemini Quickstart Guide](https://ai.google.dev/gemini-api/docs/quickstart) - Quick implementation examples in Python\n",
        "\n",
        "### Best Practices & Advanced Topics\n",
        "- [Model Cards](https://ai.google.dev/models) - Detailed information about different Gemini models\n",
        "- [Safety Settings Documentation](https://ai.google.dev/docs/safety_setting) - Guide to content filtering and safety features\n",
        "\n",
        "### Community & Support\n",
        "- [Google AI Blog](https://blog.google/technology/ai/) - Latest updates and technical insights\n",
        "\n",
        "### Related Technologies\n",
        "- [Vertex AI Documentation](https://cloud.google.com/vertex-ai/docs) - For enterprise-grade AI deployments\n",
        "- [TensorFlow Integration Guide](https://www.tensorflow.org/guide) - Using Gemini with TensorFlow\n",
        "- [Cloud Functions Integration](https://cloud.google.com/functions/docs) - Serverless deployment options"
      ],
      "metadata": {
        "id": "RqDJNHXNjFqd"
      }
    },
    {
      "cell_type": "code",
      "source": [],
      "metadata": {
        "id": "SfsTyGtgktan"
      },
      "execution_count": null,
      "outputs": []
    }
  ]
}